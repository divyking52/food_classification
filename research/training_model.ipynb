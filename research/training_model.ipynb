{
 "cells": [
  {
   "cell_type": "code",
   "execution_count": 1,
   "metadata": {},
   "outputs": [],
   "source": [
    "import os"
   ]
  },
  {
   "cell_type": "code",
   "execution_count": 2,
   "metadata": {},
   "outputs": [
    {
     "data": {
      "text/plain": [
       "'c:\\\\Users\\\\Divyansh Malav\\\\Desktop\\\\food_classification\\\\research'"
      ]
     },
     "execution_count": 2,
     "metadata": {},
     "output_type": "execute_result"
    }
   ],
   "source": [
    "%pwd"
   ]
  },
  {
   "cell_type": "code",
   "execution_count": 3,
   "metadata": {},
   "outputs": [],
   "source": [
    "os.chdir(\"../\")"
   ]
  },
  {
   "cell_type": "code",
   "execution_count": 4,
   "metadata": {},
   "outputs": [
    {
     "data": {
      "text/plain": [
       "'c:\\\\Users\\\\Divyansh Malav\\\\Desktop\\\\food_classification'"
      ]
     },
     "execution_count": 4,
     "metadata": {},
     "output_type": "execute_result"
    }
   ],
   "source": [
    "%pwd"
   ]
  },
  {
   "cell_type": "code",
   "execution_count": 5,
   "metadata": {},
   "outputs": [],
   "source": [
    "from dataclasses import dataclass\n",
    "from pathlib import Path\n",
    "\n",
    "\n",
    "@dataclass(frozen=True)\n",
    "class TrainingConfig:\n",
    "    root_dir: Path\n",
    "    trained_model_path: Path\n",
    "    updated_base_model_path: Path\n",
    "    training_data: Path\n",
    "    params_epochs: int\n",
    "    params_batch_size: int\n",
    "    params_is_augmentation: bool\n",
    "    params_image_size: list\n",
    "\n",
    "\n",
    "\n",
    "@dataclass(frozen=True)\n",
    "class PrepareCallbacksConfig:\n",
    "    root_dir: Path\n",
    "    tensorboard_root_log_dir: Path\n",
    "    checkpoint_model_filepath: Path"
   ]
  },
  {
   "cell_type": "code",
   "execution_count": 6,
   "metadata": {},
   "outputs": [
    {
     "name": "stdout",
     "output_type": "stream",
     "text": [
      "[2023-12-06 18:27:04,579: WARNING: module_wrapper: From c:\\Users\\Divyansh Malav\\anaconda3\\envs\\food\\lib\\site-packages\\keras\\src\\losses.py:2976: The name tf.losses.sparse_softmax_cross_entropy is deprecated. Please use tf.compat.v1.losses.sparse_softmax_cross_entropy instead.\n",
      "]\n"
     ]
    }
   ],
   "source": [
    "from cnnClassifier.constants import *\n",
    "from cnnClassifier.utils.common import ymalread, create_directories\n",
    "import tensorflow as tf"
   ]
  },
  {
   "cell_type": "code",
   "execution_count": 7,
   "metadata": {},
   "outputs": [],
   "source": [
    "class ConfigurationManager:\n",
    "    def __init__(\n",
    "        self, \n",
    "        config_filepath = CONFIG_FILE_PATH,\n",
    "        params_filepath = PARAMS_FILE_PATH):\n",
    "        self.config = ymalread(config_filepath)\n",
    "        self.params = ymalread(params_filepath)\n",
    "        create_directories([self.config.artifacts_root])\n",
    "\n",
    "\n",
    "    \n",
    "    def get_prepare_callback_config(self) -> PrepareCallbacksConfig:\n",
    "        config = self.config.prepare_callbacks\n",
    "        model_ckpt_dir = os.path.dirname(config.checkpoint_model_filepath)\n",
    "        create_directories([\n",
    "            Path(model_ckpt_dir),\n",
    "            Path(config.tensorboard_root_log_dir)\n",
    "        ])\n",
    "\n",
    "        prepare_callback_config = PrepareCallbacksConfig(\n",
    "            root_dir=Path(config.root_dir),\n",
    "            tensorboard_root_log_dir=Path(config.tensorboard_root_log_dir),\n",
    "            checkpoint_model_filepath=Path(config.checkpoint_model_filepath)\n",
    "        )\n",
    "\n",
    "        return prepare_callback_config\n",
    "    \n",
    "\n",
    "\n",
    "\n",
    "\n",
    "    def get_training_config(self) -> TrainingConfig:\n",
    "        training = self.config.training\n",
    "        prepare_base_model = self.config.prepare_base_model\n",
    "        params = self.params\n",
    "        training_data = os.path.join(self.config.data_ingestion.unzip_dir,\"food-101-tiny\")\n",
    "        create_directories([\n",
    "            Path(training.root_dir)\n",
    "        ])\n",
    "\n",
    "        training_config = TrainingConfig(\n",
    "            root_dir=Path(training.root_dir),\n",
    "            trained_model_path=Path(training.trained_model_path),\n",
    "            updated_base_model_path=Path(prepare_base_model.updated_base_model_path),\n",
    "            training_data=Path(training_data),\n",
    "            params_epochs=params.EPOCHS,\n",
    "            params_batch_size=params.BATCH_SIZE,\n",
    "            params_is_augmentation=params.AUGMENTATION,\n",
    "            params_image_size=params.IMAGE_SIZE\n",
    "        )\n",
    "\n",
    "        return training_config"
   ]
  },
  {
   "cell_type": "code",
   "execution_count": 8,
   "metadata": {},
   "outputs": [],
   "source": [
    "import time"
   ]
  },
  {
   "cell_type": "code",
   "execution_count": 9,
   "metadata": {},
   "outputs": [],
   "source": [
    "class PrepareCallback:\n",
    "    def __init__(self, config: PrepareCallbacksConfig):\n",
    "        self.config = config\n",
    "\n",
    "\n",
    "    \n",
    "    @property\n",
    "    def _create_tb_callbacks(self):\n",
    "        timestamp = time.strftime(\"%Y-%m-%d-%H-%M-%S\")\n",
    "        tb_running_log_dir = os.path.join(\n",
    "            self.config.tensorboard_root_log_dir,\n",
    "            f\"tb_logs_at_{timestamp}\",\n",
    "        )\n",
    "        return tf.keras.callbacks.TensorBoard(log_dir=tb_running_log_dir)\n",
    "    \n",
    "\n",
    "    @property\n",
    "    def _create_ckpt_callbacks(self):\n",
    "        return tf.keras.callbacks.ModelCheckpoint(\n",
    "            filepath=str(self.config.checkpoint_model_filepath),\n",
    "            save_best_only=True\n",
    "        )\n",
    "\n",
    "\n",
    "    def get_tb_ckpt_callbacks(self):\n",
    "        return [\n",
    "            self._create_tb_callbacks,\n",
    "            self._create_ckpt_callbacks\n",
    "        ]\n"
   ]
  },
  {
   "cell_type": "code",
   "execution_count": 10,
   "metadata": {},
   "outputs": [],
   "source": [
    "import os\n",
    "import urllib.request as request\n",
    "from zipfile import ZipFile\n",
    "import tensorflow as tf\n",
    "import time"
   ]
  },
  {
   "cell_type": "code",
   "execution_count": 11,
   "metadata": {},
   "outputs": [],
   "source": [
    "class Training:\n",
    "    def __init__(self, config: TrainingConfig):\n",
    "        self.config = config\n",
    "    \n",
    "    def get_base_model(self):\n",
    "        self.model = tf.keras.models.load_model(\n",
    "            self.config.updated_base_model_path\n",
    "        )\n",
    "    \n",
    "    def train_valid_generator(self):\n",
    "\n",
    "        datagenerator_kwargs = dict(\n",
    "            rescale = 1./255,\n",
    "            validation_split=0.20\n",
    "        )\n",
    "\n",
    "        dataflow_kwargs = dict(\n",
    "            target_size=self.config.params_image_size[:-1],\n",
    "            batch_size=self.config.params_batch_size,\n",
    "            interpolation=\"bilinear\"\n",
    "        )\n",
    "\n",
    "        valid_datagenerator = tf.keras.preprocessing.image.ImageDataGenerator(\n",
    "            **datagenerator_kwargs\n",
    "        )\n",
    "\n",
    "        self.valid_generator = valid_datagenerator.flow_from_directory(\n",
    "            directory=self.config.training_data,\n",
    "            subset=\"validation\",\n",
    "            shuffle=False,\n",
    "            **dataflow_kwargs\n",
    "        )\n",
    "\n",
    "        if self.config.params_is_augmentation:\n",
    "            train_datagenerator = tf.keras.preprocessing.image.ImageDataGenerator(\n",
    "                rotation_range=40,\n",
    "                horizontal_flip=True,\n",
    "                width_shift_range=0.2,\n",
    "                height_shift_range=0.2,\n",
    "                shear_range=0.2,\n",
    "                zoom_range=0.2,\n",
    "                **datagenerator_kwargs\n",
    "            )\n",
    "        else:\n",
    "            train_datagenerator = valid_datagenerator\n",
    "\n",
    "        self.train_generator = train_datagenerator.flow_from_directory(\n",
    "            directory=self.config.training_data,\n",
    "            subset=\"training\",\n",
    "            shuffle=True,\n",
    "            **dataflow_kwargs\n",
    "        )\n",
    "\n",
    "    @staticmethod\n",
    "    def save_model(path: Path, model: tf.keras.Model):\n",
    "        model.save(path)\n",
    "\n",
    "\n",
    "    def train(self, callback_list: list):\n",
    "        self.steps_per_epoch = self.train_generator.samples // self.train_generator.batch_size\n",
    "        self.validation_steps = self.valid_generator.samples // self.valid_generator.batch_size\n",
    "\n",
    "        self.model.fit(\n",
    "            self.train_generator,\n",
    "            epochs=self.config.params_epochs,\n",
    "            steps_per_epoch=self.steps_per_epoch,\n",
    "            validation_steps=self.validation_steps,\n",
    "            validation_data=self.valid_generator,\n",
    "            callbacks=callback_list\n",
    "        )\n",
    "\n",
    "        self.save_model(\n",
    "            path=str(self.config.trained_model_path),\n",
    "            model=self.model\n",
    "        )\n",
    "\n"
   ]
  },
  {
   "cell_type": "code",
   "execution_count": 12,
   "metadata": {},
   "outputs": [
    {
     "name": "stdout",
     "output_type": "stream",
     "text": [
      "[2023-12-06 18:27:05,446: INFO: common: yaml file: config\\config.yaml loaded successfully]\n",
      "[2023-12-06 18:27:05,448: INFO: common: yaml file: params.yaml loaded successfully]\n",
      "[2023-12-06 18:27:05,450: INFO: common: created directory at: artifacts]\n",
      "[2023-12-06 18:27:05,451: INFO: common: created directory at: artifacts\\prepare_callbacks\\checkpoint_dir]\n",
      "[2023-12-06 18:27:05,451: INFO: common: created directory at: artifacts\\prepare_callbacks\\tensorboard_log_dir]\n",
      "[2023-12-06 18:27:05,453: INFO: common: created directory at: artifacts\\training]\n",
      "[2023-12-06 18:27:05,628: WARNING: module_wrapper: From c:\\Users\\Divyansh Malav\\anaconda3\\envs\\food\\lib\\site-packages\\keras\\src\\backend.py:1398: The name tf.executing_eagerly_outside_functions is deprecated. Please use tf.compat.v1.executing_eagerly_outside_functions instead.\n",
      "]\n",
      "[2023-12-06 18:27:05,681: WARNING: module_wrapper: From c:\\Users\\Divyansh Malav\\anaconda3\\envs\\food\\lib\\site-packages\\keras\\src\\layers\\pooling\\max_pooling2d.py:161: The name tf.nn.max_pool is deprecated. Please use tf.nn.max_pool2d instead.\n",
      "]\n",
      "Found 100 images belonging to 10 classes.\n",
      "Found 400 images belonging to 10 classes.\n",
      "[2023-12-06 18:27:06,727: WARNING: module_wrapper: From c:\\Users\\Divyansh Malav\\anaconda3\\envs\\food\\lib\\site-packages\\keras\\src\\utils\\tf_utils.py:492: The name tf.ragged.RaggedTensorValue is deprecated. Please use tf.compat.v1.ragged.RaggedTensorValue instead.\n",
      "]\n"
     ]
    },
    {
     "ename": "InvalidArgumentError",
     "evalue": "Graph execution error:\n\nDetected at node categorical_crossentropy/softmax_cross_entropy_with_logits defined at (most recent call last):\n  File \"c:\\Users\\Divyansh Malav\\anaconda3\\envs\\food\\lib\\runpy.py\", line 197, in _run_module_as_main\n\n  File \"c:\\Users\\Divyansh Malav\\anaconda3\\envs\\food\\lib\\runpy.py\", line 87, in _run_code\n\n  File \"c:\\Users\\Divyansh Malav\\anaconda3\\envs\\food\\lib\\site-packages\\ipykernel_launcher.py\", line 17, in <module>\n\n  File \"c:\\Users\\Divyansh Malav\\anaconda3\\envs\\food\\lib\\site-packages\\traitlets\\config\\application.py\", line 1077, in launch_instance\n\n  File \"c:\\Users\\Divyansh Malav\\anaconda3\\envs\\food\\lib\\site-packages\\ipykernel\\kernelapp.py\", line 739, in start\n\n  File \"c:\\Users\\Divyansh Malav\\anaconda3\\envs\\food\\lib\\site-packages\\tornado\\platform\\asyncio.py\", line 205, in start\n\n  File \"c:\\Users\\Divyansh Malav\\anaconda3\\envs\\food\\lib\\asyncio\\base_events.py\", line 601, in run_forever\n\n  File \"c:\\Users\\Divyansh Malav\\anaconda3\\envs\\food\\lib\\asyncio\\base_events.py\", line 1905, in _run_once\n\n  File \"c:\\Users\\Divyansh Malav\\anaconda3\\envs\\food\\lib\\asyncio\\events.py\", line 80, in _run\n\n  File \"c:\\Users\\Divyansh Malav\\anaconda3\\envs\\food\\lib\\site-packages\\ipykernel\\kernelbase.py\", line 529, in dispatch_queue\n\n  File \"c:\\Users\\Divyansh Malav\\anaconda3\\envs\\food\\lib\\site-packages\\ipykernel\\kernelbase.py\", line 518, in process_one\n\n  File \"c:\\Users\\Divyansh Malav\\anaconda3\\envs\\food\\lib\\site-packages\\ipykernel\\kernelbase.py\", line 424, in dispatch_shell\n\n  File \"c:\\Users\\Divyansh Malav\\anaconda3\\envs\\food\\lib\\site-packages\\ipykernel\\kernelbase.py\", line 766, in execute_request\n\n  File \"c:\\Users\\Divyansh Malav\\anaconda3\\envs\\food\\lib\\site-packages\\ipykernel\\ipkernel.py\", line 429, in do_execute\n\n  File \"c:\\Users\\Divyansh Malav\\anaconda3\\envs\\food\\lib\\site-packages\\ipykernel\\zmqshell.py\", line 549, in run_cell\n\n  File \"c:\\Users\\Divyansh Malav\\anaconda3\\envs\\food\\lib\\site-packages\\IPython\\core\\interactiveshell.py\", line 3048, in run_cell\n\n  File \"c:\\Users\\Divyansh Malav\\anaconda3\\envs\\food\\lib\\site-packages\\IPython\\core\\interactiveshell.py\", line 3103, in _run_cell\n\n  File \"c:\\Users\\Divyansh Malav\\anaconda3\\envs\\food\\lib\\site-packages\\IPython\\core\\async_helpers.py\", line 129, in _pseudo_sync_runner\n\n  File \"c:\\Users\\Divyansh Malav\\anaconda3\\envs\\food\\lib\\site-packages\\IPython\\core\\interactiveshell.py\", line 3308, in run_cell_async\n\n  File \"c:\\Users\\Divyansh Malav\\anaconda3\\envs\\food\\lib\\site-packages\\IPython\\core\\interactiveshell.py\", line 3490, in run_ast_nodes\n\n  File \"c:\\Users\\Divyansh Malav\\anaconda3\\envs\\food\\lib\\site-packages\\IPython\\core\\interactiveshell.py\", line 3550, in run_code\n\n  File \"C:\\Users\\Divyansh Malav\\AppData\\Local\\Temp\\ipykernel_40584\\4168310261.py\", line 11, in <module>\n\n  File \"C:\\Users\\Divyansh Malav\\AppData\\Local\\Temp\\ipykernel_40584\\1851121604.py\", line 63, in train\n\n  File \"c:\\Users\\Divyansh Malav\\anaconda3\\envs\\food\\lib\\site-packages\\keras\\src\\utils\\traceback_utils.py\", line 65, in error_handler\n\n  File \"c:\\Users\\Divyansh Malav\\anaconda3\\envs\\food\\lib\\site-packages\\keras\\src\\engine\\training.py\", line 1807, in fit\n\n  File \"c:\\Users\\Divyansh Malav\\anaconda3\\envs\\food\\lib\\site-packages\\keras\\src\\engine\\training.py\", line 1401, in train_function\n\n  File \"c:\\Users\\Divyansh Malav\\anaconda3\\envs\\food\\lib\\site-packages\\keras\\src\\engine\\training.py\", line 1384, in step_function\n\n  File \"c:\\Users\\Divyansh Malav\\anaconda3\\envs\\food\\lib\\site-packages\\keras\\src\\engine\\training.py\", line 1373, in run_step\n\n  File \"c:\\Users\\Divyansh Malav\\anaconda3\\envs\\food\\lib\\site-packages\\keras\\src\\engine\\training.py\", line 1151, in train_step\n\n  File \"c:\\Users\\Divyansh Malav\\anaconda3\\envs\\food\\lib\\site-packages\\keras\\src\\engine\\training.py\", line 1209, in compute_loss\n\n  File \"c:\\Users\\Divyansh Malav\\anaconda3\\envs\\food\\lib\\site-packages\\keras\\src\\engine\\compile_utils.py\", line 277, in __call__\n\n  File \"c:\\Users\\Divyansh Malav\\anaconda3\\envs\\food\\lib\\site-packages\\keras\\src\\losses.py\", line 143, in __call__\n\n  File \"c:\\Users\\Divyansh Malav\\anaconda3\\envs\\food\\lib\\site-packages\\keras\\src\\losses.py\", line 270, in call\n\n  File \"c:\\Users\\Divyansh Malav\\anaconda3\\envs\\food\\lib\\site-packages\\keras\\src\\losses.py\", line 2221, in categorical_crossentropy\n\n  File \"c:\\Users\\Divyansh Malav\\anaconda3\\envs\\food\\lib\\site-packages\\keras\\src\\backend.py\", line 5579, in categorical_crossentropy\n\nlogits and labels must be broadcastable: logits_size=[16,2] labels_size=[16,10]\n\t [[{{node categorical_crossentropy/softmax_cross_entropy_with_logits}}]] [Op:__inference_train_function_890]",
     "output_type": "error",
     "traceback": [
      "\u001b[1;31m---------------------------------------------------------------------------\u001b[0m",
      "\u001b[1;31mInvalidArgumentError\u001b[0m                      Traceback (most recent call last)",
      "\u001b[1;32mc:\\Users\\Divyansh Malav\\Desktop\\food_classification\\research\\training_model.ipynb Cell 12\u001b[0m line \u001b[0;36m1\n\u001b[0;32m     <a href='vscode-notebook-cell:/c%3A/Users/Divyansh%20Malav/Desktop/food_classification/research/training_model.ipynb#X14sZmlsZQ%3D%3D?line=10'>11</a>\u001b[0m     training\u001b[39m.\u001b[39mtrain(\n\u001b[0;32m     <a href='vscode-notebook-cell:/c%3A/Users/Divyansh%20Malav/Desktop/food_classification/research/training_model.ipynb#X14sZmlsZQ%3D%3D?line=11'>12</a>\u001b[0m         callback_list\u001b[39m=\u001b[39mcallback_list\n\u001b[0;32m     <a href='vscode-notebook-cell:/c%3A/Users/Divyansh%20Malav/Desktop/food_classification/research/training_model.ipynb#X14sZmlsZQ%3D%3D?line=12'>13</a>\u001b[0m     )\n\u001b[0;32m     <a href='vscode-notebook-cell:/c%3A/Users/Divyansh%20Malav/Desktop/food_classification/research/training_model.ipynb#X14sZmlsZQ%3D%3D?line=14'>15</a>\u001b[0m \u001b[39mexcept\u001b[39;00m \u001b[39mException\u001b[39;00m \u001b[39mas\u001b[39;00m e:\n\u001b[1;32m---> <a href='vscode-notebook-cell:/c%3A/Users/Divyansh%20Malav/Desktop/food_classification/research/training_model.ipynb#X14sZmlsZQ%3D%3D?line=15'>16</a>\u001b[0m     \u001b[39mraise\u001b[39;00m e\n",
      "\u001b[1;32mc:\\Users\\Divyansh Malav\\Desktop\\food_classification\\research\\training_model.ipynb Cell 12\u001b[0m line \u001b[0;36m1\n\u001b[0;32m      <a href='vscode-notebook-cell:/c%3A/Users/Divyansh%20Malav/Desktop/food_classification/research/training_model.ipynb#X14sZmlsZQ%3D%3D?line=8'>9</a>\u001b[0m     training\u001b[39m.\u001b[39mget_base_model()\n\u001b[0;32m     <a href='vscode-notebook-cell:/c%3A/Users/Divyansh%20Malav/Desktop/food_classification/research/training_model.ipynb#X14sZmlsZQ%3D%3D?line=9'>10</a>\u001b[0m     training\u001b[39m.\u001b[39mtrain_valid_generator()\n\u001b[1;32m---> <a href='vscode-notebook-cell:/c%3A/Users/Divyansh%20Malav/Desktop/food_classification/research/training_model.ipynb#X14sZmlsZQ%3D%3D?line=10'>11</a>\u001b[0m     training\u001b[39m.\u001b[39;49mtrain(\n\u001b[0;32m     <a href='vscode-notebook-cell:/c%3A/Users/Divyansh%20Malav/Desktop/food_classification/research/training_model.ipynb#X14sZmlsZQ%3D%3D?line=11'>12</a>\u001b[0m         callback_list\u001b[39m=\u001b[39;49mcallback_list\n\u001b[0;32m     <a href='vscode-notebook-cell:/c%3A/Users/Divyansh%20Malav/Desktop/food_classification/research/training_model.ipynb#X14sZmlsZQ%3D%3D?line=12'>13</a>\u001b[0m     )\n\u001b[0;32m     <a href='vscode-notebook-cell:/c%3A/Users/Divyansh%20Malav/Desktop/food_classification/research/training_model.ipynb#X14sZmlsZQ%3D%3D?line=14'>15</a>\u001b[0m \u001b[39mexcept\u001b[39;00m \u001b[39mException\u001b[39;00m \u001b[39mas\u001b[39;00m e:\n\u001b[0;32m     <a href='vscode-notebook-cell:/c%3A/Users/Divyansh%20Malav/Desktop/food_classification/research/training_model.ipynb#X14sZmlsZQ%3D%3D?line=15'>16</a>\u001b[0m     \u001b[39mraise\u001b[39;00m e\n",
      "\u001b[1;32mc:\\Users\\Divyansh Malav\\Desktop\\food_classification\\research\\training_model.ipynb Cell 12\u001b[0m line \u001b[0;36m6\n\u001b[0;32m     <a href='vscode-notebook-cell:/c%3A/Users/Divyansh%20Malav/Desktop/food_classification/research/training_model.ipynb#X14sZmlsZQ%3D%3D?line=59'>60</a>\u001b[0m \u001b[39mself\u001b[39m\u001b[39m.\u001b[39msteps_per_epoch \u001b[39m=\u001b[39m \u001b[39mself\u001b[39m\u001b[39m.\u001b[39mtrain_generator\u001b[39m.\u001b[39msamples \u001b[39m/\u001b[39m\u001b[39m/\u001b[39m \u001b[39mself\u001b[39m\u001b[39m.\u001b[39mtrain_generator\u001b[39m.\u001b[39mbatch_size\n\u001b[0;32m     <a href='vscode-notebook-cell:/c%3A/Users/Divyansh%20Malav/Desktop/food_classification/research/training_model.ipynb#X14sZmlsZQ%3D%3D?line=60'>61</a>\u001b[0m \u001b[39mself\u001b[39m\u001b[39m.\u001b[39mvalidation_steps \u001b[39m=\u001b[39m \u001b[39mself\u001b[39m\u001b[39m.\u001b[39mvalid_generator\u001b[39m.\u001b[39msamples \u001b[39m/\u001b[39m\u001b[39m/\u001b[39m \u001b[39mself\u001b[39m\u001b[39m.\u001b[39mvalid_generator\u001b[39m.\u001b[39mbatch_size\n\u001b[1;32m---> <a href='vscode-notebook-cell:/c%3A/Users/Divyansh%20Malav/Desktop/food_classification/research/training_model.ipynb#X14sZmlsZQ%3D%3D?line=62'>63</a>\u001b[0m \u001b[39mself\u001b[39;49m\u001b[39m.\u001b[39;49mmodel\u001b[39m.\u001b[39;49mfit(\n\u001b[0;32m     <a href='vscode-notebook-cell:/c%3A/Users/Divyansh%20Malav/Desktop/food_classification/research/training_model.ipynb#X14sZmlsZQ%3D%3D?line=63'>64</a>\u001b[0m     \u001b[39mself\u001b[39;49m\u001b[39m.\u001b[39;49mtrain_generator,\n\u001b[0;32m     <a href='vscode-notebook-cell:/c%3A/Users/Divyansh%20Malav/Desktop/food_classification/research/training_model.ipynb#X14sZmlsZQ%3D%3D?line=64'>65</a>\u001b[0m     epochs\u001b[39m=\u001b[39;49m\u001b[39mself\u001b[39;49m\u001b[39m.\u001b[39;49mconfig\u001b[39m.\u001b[39;49mparams_epochs,\n\u001b[0;32m     <a href='vscode-notebook-cell:/c%3A/Users/Divyansh%20Malav/Desktop/food_classification/research/training_model.ipynb#X14sZmlsZQ%3D%3D?line=65'>66</a>\u001b[0m     steps_per_epoch\u001b[39m=\u001b[39;49m\u001b[39mself\u001b[39;49m\u001b[39m.\u001b[39;49msteps_per_epoch,\n\u001b[0;32m     <a href='vscode-notebook-cell:/c%3A/Users/Divyansh%20Malav/Desktop/food_classification/research/training_model.ipynb#X14sZmlsZQ%3D%3D?line=66'>67</a>\u001b[0m     validation_steps\u001b[39m=\u001b[39;49m\u001b[39mself\u001b[39;49m\u001b[39m.\u001b[39;49mvalidation_steps,\n\u001b[0;32m     <a href='vscode-notebook-cell:/c%3A/Users/Divyansh%20Malav/Desktop/food_classification/research/training_model.ipynb#X14sZmlsZQ%3D%3D?line=67'>68</a>\u001b[0m     validation_data\u001b[39m=\u001b[39;49m\u001b[39mself\u001b[39;49m\u001b[39m.\u001b[39;49mvalid_generator,\n\u001b[0;32m     <a href='vscode-notebook-cell:/c%3A/Users/Divyansh%20Malav/Desktop/food_classification/research/training_model.ipynb#X14sZmlsZQ%3D%3D?line=68'>69</a>\u001b[0m     callbacks\u001b[39m=\u001b[39;49mcallback_list\n\u001b[0;32m     <a href='vscode-notebook-cell:/c%3A/Users/Divyansh%20Malav/Desktop/food_classification/research/training_model.ipynb#X14sZmlsZQ%3D%3D?line=69'>70</a>\u001b[0m )\n\u001b[0;32m     <a href='vscode-notebook-cell:/c%3A/Users/Divyansh%20Malav/Desktop/food_classification/research/training_model.ipynb#X14sZmlsZQ%3D%3D?line=71'>72</a>\u001b[0m \u001b[39mself\u001b[39m\u001b[39m.\u001b[39msave_model(\n\u001b[0;32m     <a href='vscode-notebook-cell:/c%3A/Users/Divyansh%20Malav/Desktop/food_classification/research/training_model.ipynb#X14sZmlsZQ%3D%3D?line=72'>73</a>\u001b[0m     path\u001b[39m=\u001b[39m\u001b[39mstr\u001b[39m(\u001b[39mself\u001b[39m\u001b[39m.\u001b[39mconfig\u001b[39m.\u001b[39mtrained_model_path),\n\u001b[0;32m     <a href='vscode-notebook-cell:/c%3A/Users/Divyansh%20Malav/Desktop/food_classification/research/training_model.ipynb#X14sZmlsZQ%3D%3D?line=73'>74</a>\u001b[0m     model\u001b[39m=\u001b[39m\u001b[39mself\u001b[39m\u001b[39m.\u001b[39mmodel\n\u001b[0;32m     <a href='vscode-notebook-cell:/c%3A/Users/Divyansh%20Malav/Desktop/food_classification/research/training_model.ipynb#X14sZmlsZQ%3D%3D?line=74'>75</a>\u001b[0m )\n",
      "File \u001b[1;32mc:\\Users\\Divyansh Malav\\anaconda3\\envs\\food\\lib\\site-packages\\keras\\src\\utils\\traceback_utils.py:70\u001b[0m, in \u001b[0;36mfilter_traceback.<locals>.error_handler\u001b[1;34m(*args, **kwargs)\u001b[0m\n\u001b[0;32m     67\u001b[0m     filtered_tb \u001b[39m=\u001b[39m _process_traceback_frames(e\u001b[39m.\u001b[39m__traceback__)\n\u001b[0;32m     68\u001b[0m     \u001b[39m# To get the full stack trace, call:\u001b[39;00m\n\u001b[0;32m     69\u001b[0m     \u001b[39m# `tf.debugging.disable_traceback_filtering()`\u001b[39;00m\n\u001b[1;32m---> 70\u001b[0m     \u001b[39mraise\u001b[39;00m e\u001b[39m.\u001b[39mwith_traceback(filtered_tb) \u001b[39mfrom\u001b[39;00m \u001b[39mNone\u001b[39;00m\n\u001b[0;32m     71\u001b[0m \u001b[39mfinally\u001b[39;00m:\n\u001b[0;32m     72\u001b[0m     \u001b[39mdel\u001b[39;00m filtered_tb\n",
      "File \u001b[1;32mc:\\Users\\Divyansh Malav\\anaconda3\\envs\\food\\lib\\site-packages\\tensorflow\\python\\eager\\execute.py:53\u001b[0m, in \u001b[0;36mquick_execute\u001b[1;34m(op_name, num_outputs, inputs, attrs, ctx, name)\u001b[0m\n\u001b[0;32m     51\u001b[0m \u001b[39mtry\u001b[39;00m:\n\u001b[0;32m     52\u001b[0m   ctx\u001b[39m.\u001b[39mensure_initialized()\n\u001b[1;32m---> 53\u001b[0m   tensors \u001b[39m=\u001b[39m pywrap_tfe\u001b[39m.\u001b[39mTFE_Py_Execute(ctx\u001b[39m.\u001b[39m_handle, device_name, op_name,\n\u001b[0;32m     54\u001b[0m                                       inputs, attrs, num_outputs)\n\u001b[0;32m     55\u001b[0m \u001b[39mexcept\u001b[39;00m core\u001b[39m.\u001b[39m_NotOkStatusException \u001b[39mas\u001b[39;00m e:\n\u001b[0;32m     56\u001b[0m   \u001b[39mif\u001b[39;00m name \u001b[39mis\u001b[39;00m \u001b[39mnot\u001b[39;00m \u001b[39mNone\u001b[39;00m:\n",
      "\u001b[1;31mInvalidArgumentError\u001b[0m: Graph execution error:\n\nDetected at node categorical_crossentropy/softmax_cross_entropy_with_logits defined at (most recent call last):\n  File \"c:\\Users\\Divyansh Malav\\anaconda3\\envs\\food\\lib\\runpy.py\", line 197, in _run_module_as_main\n\n  File \"c:\\Users\\Divyansh Malav\\anaconda3\\envs\\food\\lib\\runpy.py\", line 87, in _run_code\n\n  File \"c:\\Users\\Divyansh Malav\\anaconda3\\envs\\food\\lib\\site-packages\\ipykernel_launcher.py\", line 17, in <module>\n\n  File \"c:\\Users\\Divyansh Malav\\anaconda3\\envs\\food\\lib\\site-packages\\traitlets\\config\\application.py\", line 1077, in launch_instance\n\n  File \"c:\\Users\\Divyansh Malav\\anaconda3\\envs\\food\\lib\\site-packages\\ipykernel\\kernelapp.py\", line 739, in start\n\n  File \"c:\\Users\\Divyansh Malav\\anaconda3\\envs\\food\\lib\\site-packages\\tornado\\platform\\asyncio.py\", line 205, in start\n\n  File \"c:\\Users\\Divyansh Malav\\anaconda3\\envs\\food\\lib\\asyncio\\base_events.py\", line 601, in run_forever\n\n  File \"c:\\Users\\Divyansh Malav\\anaconda3\\envs\\food\\lib\\asyncio\\base_events.py\", line 1905, in _run_once\n\n  File \"c:\\Users\\Divyansh Malav\\anaconda3\\envs\\food\\lib\\asyncio\\events.py\", line 80, in _run\n\n  File \"c:\\Users\\Divyansh Malav\\anaconda3\\envs\\food\\lib\\site-packages\\ipykernel\\kernelbase.py\", line 529, in dispatch_queue\n\n  File \"c:\\Users\\Divyansh Malav\\anaconda3\\envs\\food\\lib\\site-packages\\ipykernel\\kernelbase.py\", line 518, in process_one\n\n  File \"c:\\Users\\Divyansh Malav\\anaconda3\\envs\\food\\lib\\site-packages\\ipykernel\\kernelbase.py\", line 424, in dispatch_shell\n\n  File \"c:\\Users\\Divyansh Malav\\anaconda3\\envs\\food\\lib\\site-packages\\ipykernel\\kernelbase.py\", line 766, in execute_request\n\n  File \"c:\\Users\\Divyansh Malav\\anaconda3\\envs\\food\\lib\\site-packages\\ipykernel\\ipkernel.py\", line 429, in do_execute\n\n  File \"c:\\Users\\Divyansh Malav\\anaconda3\\envs\\food\\lib\\site-packages\\ipykernel\\zmqshell.py\", line 549, in run_cell\n\n  File \"c:\\Users\\Divyansh Malav\\anaconda3\\envs\\food\\lib\\site-packages\\IPython\\core\\interactiveshell.py\", line 3048, in run_cell\n\n  File \"c:\\Users\\Divyansh Malav\\anaconda3\\envs\\food\\lib\\site-packages\\IPython\\core\\interactiveshell.py\", line 3103, in _run_cell\n\n  File \"c:\\Users\\Divyansh Malav\\anaconda3\\envs\\food\\lib\\site-packages\\IPython\\core\\async_helpers.py\", line 129, in _pseudo_sync_runner\n\n  File \"c:\\Users\\Divyansh Malav\\anaconda3\\envs\\food\\lib\\site-packages\\IPython\\core\\interactiveshell.py\", line 3308, in run_cell_async\n\n  File \"c:\\Users\\Divyansh Malav\\anaconda3\\envs\\food\\lib\\site-packages\\IPython\\core\\interactiveshell.py\", line 3490, in run_ast_nodes\n\n  File \"c:\\Users\\Divyansh Malav\\anaconda3\\envs\\food\\lib\\site-packages\\IPython\\core\\interactiveshell.py\", line 3550, in run_code\n\n  File \"C:\\Users\\Divyansh Malav\\AppData\\Local\\Temp\\ipykernel_40584\\4168310261.py\", line 11, in <module>\n\n  File \"C:\\Users\\Divyansh Malav\\AppData\\Local\\Temp\\ipykernel_40584\\1851121604.py\", line 63, in train\n\n  File \"c:\\Users\\Divyansh Malav\\anaconda3\\envs\\food\\lib\\site-packages\\keras\\src\\utils\\traceback_utils.py\", line 65, in error_handler\n\n  File \"c:\\Users\\Divyansh Malav\\anaconda3\\envs\\food\\lib\\site-packages\\keras\\src\\engine\\training.py\", line 1807, in fit\n\n  File \"c:\\Users\\Divyansh Malav\\anaconda3\\envs\\food\\lib\\site-packages\\keras\\src\\engine\\training.py\", line 1401, in train_function\n\n  File \"c:\\Users\\Divyansh Malav\\anaconda3\\envs\\food\\lib\\site-packages\\keras\\src\\engine\\training.py\", line 1384, in step_function\n\n  File \"c:\\Users\\Divyansh Malav\\anaconda3\\envs\\food\\lib\\site-packages\\keras\\src\\engine\\training.py\", line 1373, in run_step\n\n  File \"c:\\Users\\Divyansh Malav\\anaconda3\\envs\\food\\lib\\site-packages\\keras\\src\\engine\\training.py\", line 1151, in train_step\n\n  File \"c:\\Users\\Divyansh Malav\\anaconda3\\envs\\food\\lib\\site-packages\\keras\\src\\engine\\training.py\", line 1209, in compute_loss\n\n  File \"c:\\Users\\Divyansh Malav\\anaconda3\\envs\\food\\lib\\site-packages\\keras\\src\\engine\\compile_utils.py\", line 277, in __call__\n\n  File \"c:\\Users\\Divyansh Malav\\anaconda3\\envs\\food\\lib\\site-packages\\keras\\src\\losses.py\", line 143, in __call__\n\n  File \"c:\\Users\\Divyansh Malav\\anaconda3\\envs\\food\\lib\\site-packages\\keras\\src\\losses.py\", line 270, in call\n\n  File \"c:\\Users\\Divyansh Malav\\anaconda3\\envs\\food\\lib\\site-packages\\keras\\src\\losses.py\", line 2221, in categorical_crossentropy\n\n  File \"c:\\Users\\Divyansh Malav\\anaconda3\\envs\\food\\lib\\site-packages\\keras\\src\\backend.py\", line 5579, in categorical_crossentropy\n\nlogits and labels must be broadcastable: logits_size=[16,2] labels_size=[16,10]\n\t [[{{node categorical_crossentropy/softmax_cross_entropy_with_logits}}]] [Op:__inference_train_function_890]"
     ]
    }
   ],
   "source": [
    "try:\n",
    "    config = ConfigurationManager()\n",
    "    prepare_callbacks_config = config.get_prepare_callback_config()\n",
    "    prepare_callbacks = PrepareCallback(config=prepare_callbacks_config)\n",
    "    callback_list = prepare_callbacks.get_tb_ckpt_callbacks()\n",
    "\n",
    "    training_config = config.get_training_config()\n",
    "    training = Training(config=training_config)\n",
    "    training.get_base_model()\n",
    "    training.train_valid_generator()\n",
    "    training.train(\n",
    "        callback_list=callback_list\n",
    "    )\n",
    "    \n",
    "except Exception as e:\n",
    "    raise e"
   ]
  },
  {
   "cell_type": "code",
   "execution_count": null,
   "metadata": {},
   "outputs": [],
   "source": []
  }
 ],
 "metadata": {
  "kernelspec": {
   "display_name": "food",
   "language": "python",
   "name": "python3"
  },
  "language_info": {
   "codemirror_mode": {
    "name": "ipython",
    "version": 3
   },
   "file_extension": ".py",
   "mimetype": "text/x-python",
   "name": "python",
   "nbconvert_exporter": "python",
   "pygments_lexer": "ipython3",
   "version": "3.9.18"
  }
 },
 "nbformat": 4,
 "nbformat_minor": 2
}
